{
 "cells": [
  {
   "cell_type": "markdown",
   "id": "7455a491",
   "metadata": {},
   "source": [
    "# 載入資料"
   ]
  },
  {
   "cell_type": "code",
   "execution_count": 1,
   "id": "909ec4f5",
   "metadata": {},
   "outputs": [],
   "source": [
    "from qiskit.utils import algorithm_globals\n",
    "algorithm_globals.random_seed = 3142\n",
    "\n",
    "import numpy as np\n",
    "np.random.seed(algorithm_globals.random_seed)\n",
    "\n",
    "from qiskit_machine_learning.datasets import ad_hoc_data\n",
    "\n",
    "train_data, train_labels, test_data, test_labels= (\n",
    "    ad_hoc_data(training_size=20, test_size=5, n=2, gap=0.3, one_hot=False))"
   ]
  },
  {
   "cell_type": "markdown",
   "id": "a842e4cc",
   "metadata": {},
   "source": [
    "# 建立量子電路"
   ]
  },
  {
   "cell_type": "code",
   "execution_count": 2,
   "id": "279b25f2",
   "metadata": {},
   "outputs": [
    {
     "data": {
      "text/html": [
       "<pre style=\"word-wrap: normal;white-space: pre;background: #fff0;line-height: 1.1;font-family: &quot;Courier New&quot;,Courier,monospace\">        ┌───┐┌─────────────┐                                          ┌───┐»\n",
       "   q_0: ┤ H ├┤ P(2.0*x[0]) ├──■────────────────────────────────────■──┤ H ├»\n",
       "        ├───┤├─────────────┤┌─┴─┐┌──────────────────────────────┐┌─┴─┐├───┤»\n",
       "   q_1: ┤ H ├┤ P(2.0*x[1]) ├┤ X ├┤ P(2.0*(π - x[0])*(π - x[1])) ├┤ X ├┤ H ├»\n",
       "        └───┘└─────────────┘└───┘└──────────────────────────────┘└───┘└───┘»\n",
       "meas: 2/═══════════════════════════════════════════════════════════════════»\n",
       "                                                                           »\n",
       "«        ┌─────────────┐                                          ┌──────────┐»\n",
       "«   q_0: ┤ P(2.0*x[0]) ├──■────────────────────────────────────■──┤ Ry(θ[0]) ├»\n",
       "«        ├─────────────┤┌─┴─┐┌──────────────────────────────┐┌─┴─┐├──────────┤»\n",
       "«   q_1: ┤ P(2.0*x[1]) ├┤ X ├┤ P(2.0*(π - x[0])*(π - x[1])) ├┤ X ├┤ Ry(θ[1]) ├»\n",
       "«        └─────────────┘└───┘└──────────────────────────────┘└───┘└──────────┘»\n",
       "«meas: 2/═════════════════════════════════════════════════════════════════════»\n",
       "«                                                                             »\n",
       "«        ┌──────────┐   ┌──────────┐┌──────────┐   ┌──────────┐┌───────────┐ ░ »\n",
       "«   q_0: ┤ Rz(θ[2]) ├─■─┤ Ry(θ[4]) ├┤ Rz(θ[6]) ├─■─┤ Ry(θ[8]) ├┤ Rz(θ[10]) ├─░─»\n",
       "«        ├──────────┤ │ ├──────────┤├──────────┤ │ ├──────────┤├───────────┤ ░ »\n",
       "«   q_1: ┤ Rz(θ[3]) ├─■─┤ Ry(θ[5]) ├┤ Rz(θ[7]) ├─■─┤ Ry(θ[9]) ├┤ Rz(θ[11]) ├─░─»\n",
       "«        └──────────┘   └──────────┘└──────────┘   └──────────┘└───────────┘ ░ »\n",
       "«meas: 2/══════════════════════════════════════════════════════════════════════»\n",
       "«                                                                              »\n",
       "«        ┌─┐   \n",
       "«   q_0: ┤M├───\n",
       "«        └╥┘┌─┐\n",
       "«   q_1: ─╫─┤M├\n",
       "«         ║ └╥┘\n",
       "«meas: 2/═╩══╩═\n",
       "«         0  1 </pre>"
      ],
      "text/plain": [
       "        ┌───┐┌─────────────┐                                          ┌───┐»\n",
       "   q_0: ┤ H ├┤ P(2.0*x[0]) ├──■────────────────────────────────────■──┤ H ├»\n",
       "        ├───┤├─────────────┤┌─┴─┐┌──────────────────────────────┐┌─┴─┐├───┤»\n",
       "   q_1: ┤ H ├┤ P(2.0*x[1]) ├┤ X ├┤ P(2.0*(π - x[0])*(π - x[1])) ├┤ X ├┤ H ├»\n",
       "        └───┘└─────────────┘└───┘└──────────────────────────────┘└───┘└───┘»\n",
       "meas: 2/═══════════════════════════════════════════════════════════════════»\n",
       "                                                                           »\n",
       "«        ┌─────────────┐                                          ┌──────────┐»\n",
       "«   q_0: ┤ P(2.0*x[0]) ├──■────────────────────────────────────■──┤ Ry(θ[0]) ├»\n",
       "«        ├─────────────┤┌─┴─┐┌──────────────────────────────┐┌─┴─┐├──────────┤»\n",
       "«   q_1: ┤ P(2.0*x[1]) ├┤ X ├┤ P(2.0*(π - x[0])*(π - x[1])) ├┤ X ├┤ Ry(θ[1]) ├»\n",
       "«        └─────────────┘└───┘└──────────────────────────────┘└───┘└──────────┘»\n",
       "«meas: 2/═════════════════════════════════════════════════════════════════════»\n",
       "«                                                                             »\n",
       "«        ┌──────────┐   ┌──────────┐┌──────────┐   ┌──────────┐┌───────────┐ ░ »\n",
       "«   q_0: ┤ Rz(θ[2]) ├─■─┤ Ry(θ[4]) ├┤ Rz(θ[6]) ├─■─┤ Ry(θ[8]) ├┤ Rz(θ[10]) ├─░─»\n",
       "«        ├──────────┤ │ ├──────────┤├──────────┤ │ ├──────────┤├───────────┤ ░ »\n",
       "«   q_1: ┤ Rz(θ[3]) ├─■─┤ Ry(θ[5]) ├┤ Rz(θ[7]) ├─■─┤ Ry(θ[9]) ├┤ Rz(θ[11]) ├─░─»\n",
       "«        └──────────┘   └──────────┘└──────────┘   └──────────┘└───────────┘ ░ »\n",
       "«meas: 2/══════════════════════════════════════════════════════════════════════»\n",
       "«                                                                              »\n",
       "«        ┌─┐   \n",
       "«   q_0: ┤M├───\n",
       "«        └╥┘┌─┐\n",
       "«   q_1: ─╫─┤M├\n",
       "«         ║ └╥┘\n",
       "«meas: 2/═╩══╩═\n",
       "«         0  1 "
      ]
     },
     "execution_count": 2,
     "metadata": {},
     "output_type": "execute_result"
    }
   ],
   "source": [
    "from qiskit.circuit.library import ZZFeatureMap, TwoLocal\n",
    "\n",
    "adhoc_feature_map = ZZFeatureMap(feature_dimension=2, reps=2)\n",
    "adhoc_var_form = TwoLocal(2, ['ry', 'rz'], 'cz', reps=2)\n",
    "\n",
    "adhoc_circuit = adhoc_feature_map.compose(adhoc_var_form)\n",
    "adhoc_circuit.measure_all()\n",
    "adhoc_circuit.decompose().draw()"
   ]
  },
  {
   "cell_type": "markdown",
   "id": "71053e6f",
   "metadata": {},
   "source": [
    "# 取得電路參數"
   ]
  },
  {
   "cell_type": "code",
   "execution_count": 3,
   "id": "50715d56",
   "metadata": {},
   "outputs": [],
   "source": [
    "def circuit_parameters(data, variational):\n",
    "    parameters = {}\n",
    "    for i, p in enumerate(adhoc_feature_map.ordered_parameters):\n",
    "        parameters[p] = data[i]\n",
    "    for i, p in enumerate(adhoc_var_form.ordered_parameters):\n",
    "        parameters[p] = variational[i]\n",
    "    return parameters"
   ]
  },
  {
   "cell_type": "markdown",
   "id": "52d222c5",
   "metadata": {},
   "source": [
    "# 奇數函數"
   ]
  },
  {
   "cell_type": "code",
   "execution_count": 4,
   "id": "985f6889",
   "metadata": {},
   "outputs": [],
   "source": [
    "def assign_label(bitstring):\n",
    "    hamming_weight = sum([int(k) for k in list(bitstring)])\n",
    "    odd = hamming_weight & 1\n",
    "    if odd:\n",
    "        return 0\n",
    "    else:\n",
    "        return 1"
   ]
  },
  {
   "cell_type": "markdown",
   "id": "80a8ad0d",
   "metadata": {},
   "source": [
    "# 取得觀測機率"
   ]
  },
  {
   "cell_type": "code",
   "execution_count": 5,
   "id": "754b3bb2",
   "metadata": {},
   "outputs": [],
   "source": [
    "def label_probability(results):\n",
    "    shots = sum(results.values())\n",
    "    probabilities = {0: 0, 1: 0}\n",
    "    for bitstring, counts in results.items():\n",
    "        label = assign_label(bitstring)\n",
    "        probabilities[label] += counts / shots\n",
    "    return probabilities"
   ]
  },
  {
   "cell_type": "markdown",
   "id": "7bf20e0b",
   "metadata": {},
   "source": [
    "# 取得結果分布"
   ]
  },
  {
   "cell_type": "code",
   "execution_count": 6,
   "id": "e06a935d",
   "metadata": {},
   "outputs": [],
   "source": [
    "from qiskit import BasicAer, execute\n",
    "\n",
    "def classification_probability(data, variational):\n",
    "    circuits = [adhoc_circuit.assign_parameters(\n",
    "        circuit_parameters(d,variational)) for d in data]\n",
    "    backend = BasicAer.get_backend('qasm_simulator')\n",
    "    results =  execute(circuits, backend).result()\n",
    "\n",
    "    classification = [label_probability(results.get_counts(c)) for c in circuits]\n",
    "    return classification"
   ]
  },
  {
   "cell_type": "markdown",
   "id": "111ba512",
   "metadata": {},
   "source": [
    "# 定義loss函數"
   ]
  },
  {
   "cell_type": "code",
   "execution_count": 7,
   "id": "8299459e",
   "metadata": {},
   "outputs": [],
   "source": [
    "def cross_entropy_loss(predictions, expected):\n",
    "    p = predictions.get(expected)\n",
    "    return -(expected*np.log(p)+(1-expected)*np.log(1-p))\n",
    "   \n",
    "def cost_function(data, labels, variational):\n",
    "    classifications = classification_probability(data, variational)\n",
    "\n",
    "    cost = 0\n",
    "    for i, classification in enumerate(classifications):\n",
    "        cost += cross_entropy_loss(classification, labels[i])\n",
    "    cost /= len(data)\n",
    "\n",
    "    return cost"
   ]
  },
  {
   "cell_type": "markdown",
   "id": "1f9b6423",
   "metadata": {},
   "source": [
    "# 開始訓練"
   ]
  },
  {
   "cell_type": "code",
   "execution_count": 8,
   "id": "e3cf08f4",
   "metadata": {},
   "outputs": [],
   "source": [
    "# Callback function for optimiser for plotting purposes\n",
    "def store_intermediate_result(evaluation, parameter, cost, \n",
    "                              stepsize, accept):\n",
    "    evaluations.append(evaluation)\n",
    "    parameters.append(parameter)\n",
    "    costs.append(cost)\n",
    "\n",
    "# Set up the optimization\n",
    "from qiskit.algorithms.optimizers import SPSA\n",
    "\n",
    "parameters = []\n",
    "costs = []\n",
    "evaluations = []\n",
    "\n",
    "optimizer = SPSA(maxiter=100, callback=store_intermediate_result)\n",
    "\n",
    "#initial_point = np.random.random(adhoc_var_form.num_parameters)\n",
    "initial_point = np.array([3.28559355, 5.48514978, 5.13099949,\n",
    "                          0.88372228, 4.08885928, 2.45568528,\n",
    "                          4.92364593, 5.59032015, 3.66837805,\n",
    "                          4.84632313, 3.60713748, 2.43546])\n",
    "\n",
    "objective_function = lambda variational: cost_function(train_data,\n",
    "                                                       train_labels,\n",
    "                                                       variational)\n",
    "\n",
    "# Run the optimization\n",
    "opt_var, opt_value, _ = optimizer.optimize(len(initial_point), objective_function, initial_point=initial_point)"
   ]
  },
  {
   "cell_type": "code",
   "execution_count": 9,
   "id": "817261d4",
   "metadata": {},
   "outputs": [
    {
     "data": {
      "image/png": "[encoded data removed]",
      "text/plain": [
       "<Figure size 432x288 with 1 Axes>"
      ]
     },
     "metadata": {
      "needs_background": "light"
     },
     "output_type": "display_data"
    }
   ],
   "source": [
    "import matplotlib.pyplot as plt\n",
    "\n",
    "fig = plt.figure()\n",
    "plt.plot(evaluations, costs)\n",
    "plt.xlabel('Steps')\n",
    "plt.ylabel('Cost')\n",
    "plt.show()"
   ]
  },
  {
   "cell_type": "markdown",
   "id": "bfe1f96b",
   "metadata": {},
   "source": [
    "# 評估準度"
   ]
  },
  {
   "cell_type": "code",
   "execution_count": 10,
   "id": "6243cc99",
   "metadata": {},
   "outputs": [
    {
     "data": {
      "text/plain": [
       "0.4"
      ]
     },
     "execution_count": 10,
     "metadata": {},
     "output_type": "execute_result"
    }
   ],
   "source": [
    "def score_classifier(data, labels, variational):\n",
    "    probability = classification_probability(data, variational)\n",
    "\n",
    "    prediction = [0 if p[0] >= p[1] else 1 for p in probability]\n",
    "    \n",
    "    accuracy = 0\n",
    "    for i, p in enumerate(probability):\n",
    "        if (p[0] >= p[1]) and (labels[i] == 0):\n",
    "            accuracy += 1\n",
    "        elif (p[1]) >= p[0] and (labels[i] == 1):\n",
    "            accuracy += 1\n",
    "    accuracy /= len(labels)\n",
    "    return accuracy, prediction\n",
    "\n",
    "accuracy, prediction = score_classifier(test_data, test_labels, opt_var)\n",
    "accuracy"
   ]
  },
  {
   "cell_type": "code",
   "execution_count": 11,
   "id": "d7c211d9",
   "metadata": {},
   "outputs": [
    {
     "data": {
      "image/png": "[encoded data removed]",
      "text/plain": [
       "<Figure size 648x432 with 1 Axes>"
      ]
     },
     "metadata": {
      "needs_background": "light"
     },
     "output_type": "display_data"
    }
   ],
   "source": [
    "from matplotlib.lines import Line2D\n",
    "plt.figure(figsize=(9, 6))\n",
    "\n",
    "for feature, label in zip(train_data, train_labels):\n",
    "    marker = 'o' \n",
    "    color = 'C0' if label == 0 else 'C1'\n",
    "    plt.scatter(feature[0], feature[1],\n",
    "                marker=marker, s=100, color=color)\n",
    "    \n",
    "for feature, label, pred in zip(test_data, test_labels, prediction):\n",
    "    marker = 's' \n",
    "    color = 'C0' if pred == 0 else 'C1'\n",
    "    plt.scatter(feature[0], feature[1],\n",
    "                marker=marker, s=100, color=color)\n",
    "    if label != pred:  # mark wrongly classified\n",
    "        plt.scatter(feature[0], feature[1], marker='o', s=500,\n",
    "                    linewidths=2.5, facecolor='none', edgecolor='C3')\n",
    "\n",
    "legend_elements = [\n",
    "    Line2D([0], [0], marker='o', c='w', mfc='C0', label='A', ms=10),\n",
    "    Line2D([0], [0], marker='o', c='w', mfc='C0', label='B', ms=10),\n",
    "    Line2D([0], [0], marker='s', c='w', mfc='C1', label='predict A',\n",
    "           ms=10),\n",
    "    Line2D([0], [0], marker='s', c='w', mfc='C0', label='predict B',\n",
    "           ms=10),\n",
    "    Line2D([0], [0], marker='o', c='w', mfc='none', mec='C3',\n",
    "           label='wrongly classified', mew=2, ms=15)\n",
    "]\n",
    "\n",
    "plt.legend(handles=legend_elements, bbox_to_anchor=(1, 1),\n",
    "           loc='upper left')\n",
    "    \n",
    "plt.title('Training & Test Data')\n",
    "plt.xlabel('x')\n",
    "plt.ylabel('y')\n",
    "plt.show()"
   ]
  },
  {
   "cell_type": "code",
   "execution_count": 12,
   "id": "115cdf09",
   "metadata": {},
   "outputs": [],
   "source": [
    "from sklearn.preprocessing import OneHotEncoder\n",
    "\n",
    "encoder = OneHotEncoder()\n",
    "train_labels_oh = encoder.fit_transform(train_labels.reshape(-1, 1)).toarray()\n",
    "test_labels_oh = encoder.fit_transform(test_labels.reshape(-1, 1)).toarray()"
   ]
  },
  {
   "cell_type": "markdown",
   "id": "be11a479",
   "metadata": {},
   "source": [
    "# 使用套裝指令"
   ]
  },
  {
   "cell_type": "code",
   "execution_count": 13,
   "id": "2294b884",
   "metadata": {},
   "outputs": [
    {
     "data": {
      "text/plain": [
       "<qiskit_machine_learning.algorithms.classifiers.vqc.VQC at 0x14f83e2a198>"
      ]
     },
     "execution_count": 13,
     "metadata": {},
     "output_type": "execute_result"
    }
   ],
   "source": [
    "parameters = []\n",
    "costs = []\n",
    "evaluations = []\n",
    "\n",
    "#initial_point = np.random.random(adhoc_var_form.num_parameters)\n",
    "initial_point = np.array([0.3200227 , 0.6503638 , 0.55995053,\n",
    "                          0.96566328, 0.38243769, 0.90403094,\n",
    "                          0.82271449, 0.26810137, 0.61076489,\n",
    "                          0.82301609, 0.11789148, 0.29667125])\n",
    "\n",
    "from qiskit_machine_learning.algorithms.classifiers import VQC\n",
    "\n",
    "vqc = VQC(feature_map=adhoc_feature_map,\n",
    "          ansatz=adhoc_var_form,\n",
    "          loss='cross_entropy',\n",
    "          optimizer=SPSA(callback=store_intermediate_result),\n",
    "          initial_point=initial_point,\n",
    "          quantum_instance=BasicAer.get_backend('qasm_simulator'))\n",
    "\n",
    "vqc.fit(train_data, train_labels_oh)"
   ]
  },
  {
   "cell_type": "code",
   "execution_count": 14,
   "id": "f291dbe9",
   "metadata": {},
   "outputs": [
    {
     "data": {
      "image/png": "[encoded data removed]",
      "text/plain": [
       "<Figure size 432x288 with 1 Axes>"
      ]
     },
     "metadata": {
      "needs_background": "light"
     },
     "output_type": "display_data"
    }
   ],
   "source": [
    "fig = plt.figure()\n",
    "plt.plot(evaluations, costs)\n",
    "plt.xlabel('Steps')\n",
    "plt.ylabel('Cost')\n",
    "plt.show()"
   ]
  },
  {
   "cell_type": "code",
   "execution_count": 15,
   "id": "67367979",
   "metadata": {},
   "outputs": [
    {
     "data": {
      "text/plain": [
       "0.9"
      ]
     },
     "execution_count": 15,
     "metadata": {},
     "output_type": "execute_result"
    }
   ],
   "source": [
    "vqc.score(test_data, test_labels_oh)"
   ]
  },
  {
   "cell_type": "code",
   "execution_count": 16,
   "id": "42afa94f",
   "metadata": {},
   "outputs": [
    {
     "data": {
      "image/png": "[encoded data removed]",
      "text/plain": [
       "<Figure size 648x432 with 1 Axes>"
      ]
     },
     "metadata": {
      "needs_background": "light"
     },
     "output_type": "display_data"
    }
   ],
   "source": [
    "from matplotlib.lines import Line2D\n",
    "plt.figure(figsize=(9, 6))\n",
    "\n",
    "for feature, label in zip(train_data, train_labels_oh):\n",
    "    color = 'C1' if label[0] == 0 else 'C0'\n",
    "    plt.scatter(feature[0], feature[1], marker='o', s=100,\n",
    "                color=color)\n",
    "    \n",
    "for feature, label, pred in zip(test_data, test_labels_oh,\n",
    "                                vqc.predict(test_data)): \n",
    "    color = 'C1' if pred[0] == 0 else 'C0'\n",
    "    plt.scatter(feature[0], feature[1], marker='s', s=100, color=color)\n",
    "    if not np.array_equal(label,pred):  # mark wrongly classified\n",
    "        plt.scatter(feature[0], feature[1], marker='o', s=500,\n",
    "                    linewidths=2.5, facecolor='none', edgecolor='C3')\n",
    "\n",
    "legend_elements = [\n",
    "    Line2D([0], [0], marker='o', c='w', mfc='C1', label='A', ms=10),\n",
    "    Line2D([0], [0], marker='o', c='w', mfc='C0', label='B', ms=10),\n",
    "    Line2D([0], [0], marker='s', c='w', mfc='C1', label='predict A',\n",
    "           ms=10),\n",
    "    Line2D([0], [0], marker='s', c='w', mfc='C0', label='predict B',\n",
    "           ms=10),\n",
    "    Line2D([0], [0], marker='o', c='w', mfc='none', mec='C3',\n",
    "           label='wrongly classified', mew=2, ms=15)\n",
    "]\n",
    "\n",
    "plt.legend(handles=legend_elements, bbox_to_anchor=(1, 1),\n",
    "           loc='upper left')\n",
    "    \n",
    "plt.title('Training & Test Data')\n",
    "plt.xlabel('x')\n",
    "plt.ylabel('y')\n",
    "plt.show()"
   ]
  }
 ],
 "metadata": {
  "kernelspec": {
   "display_name": "Python 3",
   "language": "python",
   "name": "python3"
  },
  "language_info": {
   "codemirror_mode": {
    "name": "ipython",
    "version": 3
   },
   "file_extension": ".py",
   "mimetype": "text/x-python",
   "name": "python",
   "nbconvert_exporter": "python",
   "pygments_lexer": "ipython3",
   "version": "3.6.13"
  }
 },
 "nbformat": 4,
 "nbformat_minor": 5
}

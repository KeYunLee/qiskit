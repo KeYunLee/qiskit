{
 "cells": [
  {
   "cell_type": "markdown",
   "id": "7455a491",
   "metadata": {},
   "source": [
    "# 載入資料"
   ]
  },
  {
   "cell_type": "code",
   "execution_count": null,
   "id": "909ec4f5",
   "metadata": {},
   "outputs": [],
   "source": [
    "from qiskit.utils import algorithm_globals\n",
    "algorithm_globals.random_seed = 3142\n",
    "\n",
    "import numpy as np\n",
    "import pandas as pd\n",
    "import os\n",
    "import sys\n",
    "sys.path.append('C:\\\\work\\\\PycharmProjects\\\\auofalldetection')\n",
    "from matplotlib import pyplot as plt\n",
    "np.random.seed(algorithm_globals.random_seed)"
   ]
  },
  {
   "cell_type": "code",
   "execution_count": null,
   "id": "abf12392",
   "metadata": {},
   "outputs": [],
   "source": [
    "sys.path"
   ]
  },
  {
   "cell_type": "markdown",
   "id": "db50231a",
   "metadata": {},
   "source": [
    "# 載入資料"
   ]
  },
  {
   "cell_type": "code",
   "execution_count": null,
   "id": "468ecba5",
   "metadata": {},
   "outputs": [],
   "source": [
    "train_csv = '../auofalldetection/data/skeleton_from_openpifpaf/final_train.csv'\n",
    "test_csv = '../auofalldetection/data/skeleton_from_openpifpaf/Falldwtwction_20210729_test.csv'\n",
    "\n",
    "train_df = pd.read_csv(train_csv)\n",
    "test_df = pd.read_csv(test_csv)"
   ]
  },
  {
   "cell_type": "markdown",
   "id": "8301bb54",
   "metadata": {},
   "source": [
    "# 過濾"
   ]
  },
  {
   "cell_type": "code",
   "execution_count": null,
   "id": "7c80b125",
   "metadata": {},
   "outputs": [],
   "source": [
    "train_df = train_df[train_df['Label'].isin(['lie_down','sit','stand'])].reset_index(drop=True)"
   ]
  },
  {
   "cell_type": "markdown",
   "id": "d6405a63",
   "metadata": {},
   "source": [
    "# 0轉成NA"
   ]
  },
  {
   "cell_type": "code",
   "execution_count": null,
   "id": "c381924f",
   "metadata": {},
   "outputs": [],
   "source": [
    "train_df = train_df.replace(0,np.nan)\n",
    "test_df = test_df.replace(0,np.nan)"
   ]
  },
  {
   "cell_type": "markdown",
   "id": "6cf32460",
   "metadata": {},
   "source": [
    "# 特徵工程-函數定義"
   ]
  },
  {
   "cell_type": "code",
   "execution_count": null,
   "id": "73d62eba",
   "metadata": {},
   "outputs": [],
   "source": [
    "from auofalldetection.skfeateng.normalize import get_NormalizeDF\n",
    "from auofalldetection.skfeateng.skfeateng import get_UpperLowerRatio, get_UpperLowerAngle, get_BodyAngle, get_BodyClockAngle"
   ]
  },
  {
   "cell_type": "markdown",
   "id": "fae94736",
   "metadata": {},
   "source": [
    "# 特徵工程-標準化"
   ]
  },
  {
   "cell_type": "code",
   "execution_count": null,
   "id": "1586c204",
   "metadata": {},
   "outputs": [],
   "source": [
    "scale = 1\n",
    "Aspect_flag = 0\n",
    "fillna_flag = None\n",
    "train_df = get_NormalizeDF(train_df,scale=scale,Aspect_flag=Aspect_flag,fillna_num=fillna_flag,replace=True)\n",
    "test_df = get_NormalizeDF(test_df,scale=scale,Aspect_flag=Aspect_flag,fillna_num=fillna_flag,replace=True)"
   ]
  },
  {
   "cell_type": "markdown",
   "id": "c6cc3c14",
   "metadata": {},
   "source": [
    "# 選擇特徵"
   ]
  },
  {
   "cell_type": "code",
   "execution_count": null,
   "id": "dd9e451b",
   "metadata": {},
   "outputs": [],
   "source": [
    "select_cols = []\n",
    "select_cols = select_cols + [s for s in train_df.columns if s.endswith('_x') or s.endswith('_y')]\n",
    "train_x = train_df[select_cols]\n",
    "test_x = test_df[select_cols]\n",
    "display(train_x)"
   ]
  },
  {
   "cell_type": "code",
   "execution_count": null,
   "id": "b336016d",
   "metadata": {},
   "outputs": [],
   "source": [
    "train_x.shape"
   ]
  },
  {
   "cell_type": "code",
   "execution_count": null,
   "id": "0e1e0b90",
   "metadata": {},
   "outputs": [],
   "source": [
    "test_x.shape"
   ]
  },
  {
   "cell_type": "code",
   "execution_count": null,
   "id": "ae5a989b",
   "metadata": {},
   "outputs": [],
   "source": [
    "from sklearn import preprocessing\n",
    "\n",
    "train_y = train_df['Label']\n",
    "le = preprocessing.LabelEncoder()\n",
    "le.fit(train_y)\n",
    "train_y = le.transform(train_y)\n",
    "test_y = le.transform(test_df['Label'])"
   ]
  },
  {
   "cell_type": "code",
   "execution_count": null,
   "id": "94d95a74",
   "metadata": {},
   "outputs": [],
   "source": [
    "train_y.shape"
   ]
  },
  {
   "cell_type": "code",
   "execution_count": null,
   "id": "4ead2831",
   "metadata": {},
   "outputs": [],
   "source": [
    "test_y.shape"
   ]
  },
  {
   "cell_type": "markdown",
   "id": "a842e4cc",
   "metadata": {},
   "source": [
    "# 建立量子電路"
   ]
  },
  {
   "cell_type": "code",
   "execution_count": null,
   "id": "279b25f2",
   "metadata": {},
   "outputs": [],
   "source": [
    "# from qiskit.circuit.library import ZZFeatureMap, TwoLocal\n",
    "\n",
    "# adhoc_feature_map = ZZFeatureMap(feature_dimension=2, reps=2)\n",
    "# adhoc_var_form = TwoLocal(2, ['ry', 'rz'], 'cz', reps=2)\n",
    "\n",
    "# adhoc_circuit = adhoc_feature_map.compose(adhoc_var_form)\n",
    "# adhoc_circuit.measure_all()\n",
    "# adhoc_circuit.decompose().draw()"
   ]
  },
  {
   "cell_type": "markdown",
   "id": "71053e6f",
   "metadata": {},
   "source": [
    "# 取得電路參數"
   ]
  },
  {
   "cell_type": "code",
   "execution_count": null,
   "id": "50715d56",
   "metadata": {},
   "outputs": [],
   "source": [
    "def circuit_parameters(data, variational):\n",
    "    parameters = {}\n",
    "    for i, p in enumerate(adhoc_feature_map.ordered_parameters):\n",
    "        parameters[p] = data[i]\n",
    "    for i, p in enumerate(adhoc_var_form.ordered_parameters):\n",
    "        parameters[p] = variational[i]\n",
    "    return parameters"
   ]
  },
  {
   "cell_type": "markdown",
   "id": "52d222c5",
   "metadata": {},
   "source": [
    "# 奇數函數"
   ]
  },
  {
   "cell_type": "code",
   "execution_count": null,
   "id": "985f6889",
   "metadata": {},
   "outputs": [],
   "source": [
    "def assign_label(bitstring):\n",
    "    hamming_weight = sum([int(k) for k in list(bitstring)])\n",
    "    odd = hamming_weight & 1\n",
    "    if odd:\n",
    "        return 0\n",
    "    else:\n",
    "        return 1"
   ]
  },
  {
   "cell_type": "markdown",
   "id": "80a8ad0d",
   "metadata": {},
   "source": [
    "# 取得觀測機率"
   ]
  },
  {
   "cell_type": "code",
   "execution_count": null,
   "id": "754b3bb2",
   "metadata": {},
   "outputs": [],
   "source": [
    "def label_probability(results):\n",
    "    shots = sum(results.values())\n",
    "    probabilities = {0: 0, 1: 0}\n",
    "    for bitstring, counts in results.items():\n",
    "        label = assign_label(bitstring)\n",
    "        probabilities[label] += counts / shots\n",
    "    return probabilities"
   ]
  },
  {
   "cell_type": "markdown",
   "id": "7bf20e0b",
   "metadata": {},
   "source": [
    "# 取得結果分布"
   ]
  },
  {
   "cell_type": "code",
   "execution_count": null,
   "id": "e06a935d",
   "metadata": {},
   "outputs": [],
   "source": [
    "from qiskit import BasicAer, execute\n",
    "\n",
    "def classification_probability(data, variational):\n",
    "    circuits = [adhoc_circuit.assign_parameters(\n",
    "        circuit_parameters(d,variational)) for d in data]\n",
    "    backend = BasicAer.get_backend('qasm_simulator')\n",
    "    results =  execute(circuits, backend).result()\n",
    "\n",
    "    classification = [label_probability(results.get_counts(c)) for c in circuits]\n",
    "    return classification"
   ]
  },
  {
   "cell_type": "markdown",
   "id": "111ba512",
   "metadata": {},
   "source": [
    "# 定義loss函數"
   ]
  },
  {
   "cell_type": "code",
   "execution_count": null,
   "id": "8299459e",
   "metadata": {},
   "outputs": [],
   "source": [
    "def cross_entropy_loss(predictions, expected):\n",
    "    p = predictions.get(expected)\n",
    "    return -(expected*np.log(p)+(1-expected)*np.log(1-p))\n",
    "   \n",
    "def cost_function(data, labels, variational):\n",
    "    classifications = classification_probability(data, variational)\n",
    "\n",
    "    cost = 0\n",
    "    for i, classification in enumerate(classifications):\n",
    "        cost += cross_entropy_loss(classification, labels[i])\n",
    "    cost /= len(data)\n",
    "\n",
    "    return cost"
   ]
  },
  {
   "cell_type": "markdown",
   "id": "1f9b6423",
   "metadata": {},
   "source": [
    "# 開始訓練"
   ]
  },
  {
   "cell_type": "code",
   "execution_count": null,
   "id": "fbca0367",
   "metadata": {},
   "outputs": [],
   "source": [
    "# Callback function for optimiser for plotting purposes\n",
    "def store_intermediate_result(evaluation, parameter, cost, \n",
    "                              stepsize, accept):\n",
    "    evaluations.append(evaluation)\n",
    "    parameters.append(parameter)\n",
    "    costs.append(cost)"
   ]
  },
  {
   "cell_type": "code",
   "execution_count": null,
   "id": "e3cf08f4",
   "metadata": {},
   "outputs": [],
   "source": [
    "# Set up the optimization\n",
    "from qiskit.algorithms.optimizers import SPSA\n",
    "\n",
    "# parameters = []\n",
    "# costs = []\n",
    "# evaluations = []\n",
    "\n",
    "# optimizer = SPSA(maxiter=100, callback=store_intermediate_result)\n",
    "\n",
    "# #initial_point = np.random.random(adhoc_var_form.num_parameters)\n",
    "# initial_point = np.array([3.28559355, 5.48514978, 5.13099949,\n",
    "#                           0.88372228, 4.08885928, 2.45568528,\n",
    "#                           4.92364593, 5.59032015, 3.66837805,\n",
    "#                           4.84632313, 3.60713748, 2.43546])\n",
    "\n",
    "# objective_function = lambda variational: cost_function(train_data,\n",
    "#                                                        train_labels,\n",
    "#                                                        variational)\n",
    "\n",
    "# # Run the optimization\n",
    "# opt_var, opt_value, _ = optimizer.optimize(len(initial_point), objective_function, initial_point=initial_point)"
   ]
  },
  {
   "cell_type": "code",
   "execution_count": null,
   "id": "817261d4",
   "metadata": {},
   "outputs": [],
   "source": [
    "# import matplotlib.pyplot as plt\n",
    "\n",
    "# fig = plt.figure()\n",
    "# plt.plot(evaluations, costs)\n",
    "# plt.xlabel('Steps')\n",
    "# plt.ylabel('Cost')\n",
    "# plt.show()"
   ]
  },
  {
   "cell_type": "markdown",
   "id": "bfe1f96b",
   "metadata": {},
   "source": [
    "# 評估準度"
   ]
  },
  {
   "cell_type": "code",
   "execution_count": null,
   "id": "6243cc99",
   "metadata": {},
   "outputs": [],
   "source": [
    "def score_classifier(data, labels, variational):\n",
    "    probability = classification_probability(data, variational)\n",
    "\n",
    "    prediction = [0 if p[0] >= p[1] else 1 for p in probability]\n",
    "    \n",
    "    accuracy = 0\n",
    "    for i, p in enumerate(probability):\n",
    "        if (p[0] >= p[1]) and (labels[i] == 0):\n",
    "            accuracy += 1\n",
    "        elif (p[1]) >= p[0] and (labels[i] == 1):\n",
    "            accuracy += 1\n",
    "    accuracy /= len(labels)\n",
    "    return accuracy, prediction\n",
    "\n",
    "# accuracy, prediction = score_classifier(test_data, test_labels, opt_var)\n",
    "# accuracy"
   ]
  },
  {
   "cell_type": "code",
   "execution_count": null,
   "id": "d7c211d9",
   "metadata": {},
   "outputs": [],
   "source": [
    "# from matplotlib.lines import Line2D\n",
    "# plt.figure(figsize=(9, 6))\n",
    "\n",
    "# for feature, label in zip(train_data, train_labels):\n",
    "#     marker = 'o' \n",
    "#     color = 'C0' if label == 0 else 'C1'\n",
    "#     plt.scatter(feature[0], feature[1],\n",
    "#                 marker=marker, s=100, color=color)\n",
    "    \n",
    "# for feature, label, pred in zip(test_data, test_labels, prediction):\n",
    "#     marker = 's' \n",
    "#     color = 'C0' if pred == 0 else 'C1'\n",
    "#     plt.scatter(feature[0], feature[1],\n",
    "#                 marker=marker, s=100, color=color)\n",
    "#     if label != pred:  # mark wrongly classified\n",
    "#         plt.scatter(feature[0], feature[1], marker='o', s=500,\n",
    "#                     linewidths=2.5, facecolor='none', edgecolor='C3')\n",
    "\n",
    "# legend_elements = [\n",
    "#     Line2D([0], [0], marker='o', c='w', mfc='C0', label='A', ms=10),\n",
    "#     Line2D([0], [0], marker='o', c='w', mfc='C0', label='B', ms=10),\n",
    "#     Line2D([0], [0], marker='s', c='w', mfc='C1', label='predict A',\n",
    "#            ms=10),\n",
    "#     Line2D([0], [0], marker='s', c='w', mfc='C0', label='predict B',\n",
    "#            ms=10),\n",
    "#     Line2D([0], [0], marker='o', c='w', mfc='none', mec='C3',\n",
    "#            label='wrongly classified', mew=2, ms=15)\n",
    "# ]\n",
    "\n",
    "# plt.legend(handles=legend_elements, bbox_to_anchor=(1, 1),\n",
    "#            loc='upper left')\n",
    "    \n",
    "# plt.title('Training & Test Data')\n",
    "# plt.xlabel('x')\n",
    "# plt.ylabel('y')\n",
    "# plt.show()"
   ]
  },
  {
   "cell_type": "code",
   "execution_count": null,
   "id": "115cdf09",
   "metadata": {},
   "outputs": [],
   "source": [
    "from sklearn.preprocessing import OneHotEncoder\n",
    "\n",
    "encoder = OneHotEncoder()\n",
    "train_labels_oh = encoder.fit_transform(train_y.reshape(-1, 1)).toarray()\n",
    "test_labels_oh = encoder.fit_transform(test_y.reshape(-1, 1)).toarray()"
   ]
  },
  {
   "cell_type": "code",
   "execution_count": null,
   "id": "79b2c4c8",
   "metadata": {},
   "outputs": [],
   "source": [
    "train_labels_oh.shape"
   ]
  },
  {
   "cell_type": "code",
   "execution_count": null,
   "id": "a6c31476",
   "metadata": {},
   "outputs": [],
   "source": [
    "test_labels_oh.shape"
   ]
  },
  {
   "cell_type": "markdown",
   "id": "be11a479",
   "metadata": {},
   "source": [
    "# 使用套裝指令"
   ]
  },
  {
   "cell_type": "code",
   "execution_count": null,
   "id": "2294b884",
   "metadata": {},
   "outputs": [],
   "source": [
    "parameters = []\n",
    "costs = []\n",
    "evaluations = []\n",
    "\n",
    "#initial_point = np.random.random(adhoc_var_form.num_parameters)\n",
    "# initial_point = np.array([0.3200227 , 0.6503638 , 0.55995053,\n",
    "#                           0.96566328, 0.38243769, 0.90403094,\n",
    "#                           0.82271449, 0.26810137, 0.61076489,\n",
    "#                           0.82301609, 0.11789148, 0.29667125])\n",
    "\n",
    "from qiskit_machine_learning.algorithms.classifiers import VQC\n",
    "num_qubits = 34\n",
    "vqc = VQC(num_qubits=num_qubits,\n",
    "          loss='cross_entropy',\n",
    "          optimizer=SPSA(callback=store_intermediate_result),\n",
    "          quantum_instance=BasicAer.get_backend('qasm_simulator'))\n",
    "\n",
    "vqc.fit(train_x, train_labels_oh)"
   ]
  },
  {
   "cell_type": "code",
   "execution_count": null,
   "id": "f291dbe9",
   "metadata": {},
   "outputs": [],
   "source": [
    "fig = plt.figure()\n",
    "plt.plot(evaluations, costs)\n",
    "plt.xlabel('Steps')\n",
    "plt.ylabel('Cost')\n",
    "plt.show()"
   ]
  },
  {
   "cell_type": "code",
   "execution_count": null,
   "id": "67367979",
   "metadata": {},
   "outputs": [],
   "source": [
    "vqc.score(test_x, test_labels_oh)"
   ]
  },
  {
   "cell_type": "code",
   "execution_count": null,
   "id": "7a983876",
   "metadata": {},
   "outputs": [],
   "source": [
    "vqc.predict(test_x)"
   ]
  },
  {
   "cell_type": "code",
   "execution_count": null,
   "id": "42afa94f",
   "metadata": {},
   "outputs": [],
   "source": [
    "from matplotlib.lines import Line2D\n",
    "plt.figure(figsize=(9, 6))\n",
    "\n",
    "for feature, label in zip(train_x, train_labels_oh):\n",
    "    color = 'C1' if label[0] == 0 else 'C0'\n",
    "    plt.scatter(feature[0], feature[1], marker='o', s=100,\n",
    "                color=color)\n",
    "    \n",
    "for feature, label, pred in zip(test_x, test_labels_oh,\n",
    "                                vqc.predict(test_x)): \n",
    "    color = 'C1' if pred[0] == 0 else 'C0'\n",
    "    plt.scatter(feature[0], feature[1], marker='s', s=100, color=color)\n",
    "    if not np.array_equal(label,pred):  # mark wrongly classified\n",
    "        plt.scatter(feature[0], feature[1], marker='o', s=500,\n",
    "                    linewidths=2.5, facecolor='none', edgecolor='C3')\n",
    "\n",
    "legend_elements = [\n",
    "    Line2D([0], [0], marker='o', c='w', mfc='C1', label='A', ms=10),\n",
    "    Line2D([0], [0], marker='o', c='w', mfc='C0', label='B', ms=10),\n",
    "    Line2D([0], [0], marker='s', c='w', mfc='C1', label='predict A',\n",
    "           ms=10),\n",
    "    Line2D([0], [0], marker='s', c='w', mfc='C0', label='predict B',\n",
    "           ms=10),\n",
    "    Line2D([0], [0], marker='o', c='w', mfc='none', mec='C3',\n",
    "           label='wrongly classified', mew=2, ms=15)\n",
    "]\n",
    "\n",
    "plt.legend(handles=legend_elements, bbox_to_anchor=(1, 1),\n",
    "           loc='upper left')\n",
    "    \n",
    "plt.title('Training & Test Data')\n",
    "plt.xlabel('x')\n",
    "plt.ylabel('y')\n",
    "plt.show()"
   ]
  }
 ],
 "metadata": {
  "kernelspec": {
   "display_name": "Python 3",
   "language": "python",
   "name": "python3"
  },
  "language_info": {
   "codemirror_mode": {
    "name": "ipython",
    "version": 3
   },
   "file_extension": ".py",
   "mimetype": "text/x-python",
   "name": "python",
   "nbconvert_exporter": "python",
   "pygments_lexer": "ipython3",
   "version": "3.6.13"
  }
 },
 "nbformat": 4,
 "nbformat_minor": 5
}
